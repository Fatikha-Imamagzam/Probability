{
  "nbformat": 4,
  "nbformat_minor": 0,
  "metadata": {
    "colab": {
      "name": "PMF.ipynb",
      "provenance": [],
      "authorship_tag": "ABX9TyPH6MUYBXEaD6u1bvXkYncW",
      "include_colab_link": true
    },
    "kernelspec": {
      "name": "python3",
      "display_name": "Python 3"
    },
    "language_info": {
      "name": "python"
    }
  },
  "cells": [
    {
      "cell_type": "markdown",
      "metadata": {
        "id": "view-in-github",
        "colab_type": "text"
      },
      "source": [
        "<a href=\"https://colab.research.google.com/github/Fatikha-Imamagzam/Probability/blob/main/PMF.ipynb\" target=\"_parent\"><img src=\"https://colab.research.google.com/assets/colab-badge.svg\" alt=\"Open In Colab\"/></a>"
      ]
    },
    {
      "cell_type": "markdown",
      "metadata": {
        "id": "Qf1YV1V_JRaF"
      },
      "source": [
        "Olasılık Kütle Fonksiyonu PMF\n",
        "\n",
        "Kutuda farklı renklerde toplar vardır. Kırmızı top 5 tane, yeşil 8, sarı 6, siyah 2 ve 9 turuncu. PMF bul.\n",
        "PMF(red)=5/5+8+6+2+9\n",
        "\n",
        "PMF(green)=8/5+8+6+2+9=0,26\n",
        "\n",
        "PMF(yellow)=6/5+8+6+2+9=0,2\n",
        "\n",
        "PMF(black)=2/5+8+6+2+9=0,06\n",
        "\n",
        "PMF(orange)=9/5+8+6+2+9=0,3\n"
      ]
    },
    {
      "cell_type": "code",
      "metadata": {
        "colab": {
          "base_uri": "https://localhost:8080/",
          "height": 265
        },
        "id": "DRU_QDnQ_vXq",
        "outputId": "663e12ce-e1cd-4a22-ef2d-90e1b1904620"
      },
      "source": [
        "import pandas as pd\n",
        "import matplotlib.pyplot as plt\n",
        "\n",
        "df = pd.DataFrame()\n",
        "\n",
        "df['color'] = ['Red','Green','Yellow','Black','Orange']\n",
        "df['count'] = [5,8,6,2,9]\n",
        "\n",
        "df['pmf'] = df['count']/df['count'].sum()\n",
        "\n",
        "plt.bar(df['color'],df['pmf'])\n",
        "plt.show()"
      ],
      "execution_count": null,
      "outputs": [
        {
          "output_type": "display_data",
          "data": {
            "image/png": "[encoded data removed]",
            "text/plain": [
              "<Figure size 432x288 with 1 Axes>"
            ]
          },
          "metadata": {
            "tags": [],
            "needs_background": "light"
          }
        }
      ]
    }
  ]
}