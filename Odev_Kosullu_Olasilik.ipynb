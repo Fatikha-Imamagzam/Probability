{
  "nbformat": 4,
  "nbformat_minor": 0,
  "metadata": {
    "colab": {
      "name": "Odev-Kosullu-Olasilik.ipynb",
      "provenance": [],
      "authorship_tag": "ABX9TyMzpEoyB4sRLrZ4lgDSPL39",
      "include_colab_link": true
    },
    "kernelspec": {
      "name": "python3",
      "display_name": "Python 3"
    },
    "language_info": {
      "name": "python"
    }
  },
  "cells": [
    {
      "cell_type": "markdown",
      "metadata": {
        "id": "view-in-github",
        "colab_type": "text"
      },
      "source": [
        "<a href=\"https://colab.research.google.com/github/Fatikha-Imamagzam/Probability/blob/main/Odev_Kosullu_Olasilik.ipynb\" target=\"_parent\"><img src=\"https://colab.research.google.com/assets/colab-badge.svg\" alt=\"Open In Colab\"/></a>"
      ]
    },
    {
      "cell_type": "markdown",
      "metadata": {
        "id": "iDfVgbeRBTPu"
      },
      "source": [
        "Ödev : Koşullu olasılık \n",
        "\n",
        "Soru : İki otomatik makine, ortak bir konteynere giden aynı ürün üretir. İlk makinenin performansı, ikincisinin iki katıdır. İlk makine %60 mükemmel kalitede ürün üretir ve ikinci makine  %84 . Tesadüfen, konveyörden alınan ürün mükemmel kalitede olduğu ortaya çıktı. Bu ürünü birinci makine tarafından üretilme olasılığı nedir.\n",
        "\n",
        "\n",
        "Çözüm :\n",
        "\n",
        "*   Ürünün birinci makineden üretilme olasılığı P(H1)=2/3\n",
        "\n",
        "*   Ürünün ikinci makineden üretilme olasılığı P(H2)=1/3\n",
        "\n",
        "*   Ürünün birinci makineden üretidiğinde mükemmel olma olasılığı P(A|H1)=0,6\n",
        "\n",
        "*   Ürünün ikinci makineden üretidiğinde mükemmel olma olasılığı P(A|H2)=0,84\n",
        "\n",
        "*   P(A)- Seçilen ürünün mükemmel olma olasılığı \n",
        " \n",
        "    P(A)= P(A|H1)*P(H1)+P(A|H2)*P(H2)=0.68\n",
        "\n",
        "\n",
        "*   Seçilen ürünün birinci makine tarafından üretilme olasılığını Bayes formulu ile buluyoruz.\n",
        "\n",
        "    P(H1|A)=(P(H1)*P(A|H1))/ P(A)=(2/3*0.6)/0.68=10/17=0.58\n",
        "\n",
        "\n",
        "\n",
        "\n",
        "\n",
        "\n",
        "\n",
        "\n",
        "\n",
        "\n",
        "\n",
        "\n",
        "\n",
        "\n",
        "\n"
      ]
    },
    {
      "cell_type": "code",
      "metadata": {
        "id": "mHY2aBacDwrY",
        "outputId": "222ed8ec-100e-4db7-b657-de66ac9d28ab",
        "colab": {
          "base_uri": "https://localhost:8080/"
        }
      },
      "source": [
        "\n",
        "def olas(P_A_H1, P_H1, P_A_H2,P_H2 ):\n",
        "    '''\n",
        "        Seçilen ürünün mükemmel olma olasılığı\n",
        "\n",
        "        P(A) = (P_A_H1 * P_H1 +P_A_H2 * P_H2)\n",
        "    '''\n",
        "    return P_A_H1 * P_H1 + P_A_H2 * P_H2\n",
        "def bayes(P_A, P_H1, P_A_H1):\n",
        "    '''\n",
        "        Bayes teoremi hesaplama işlevi.\n",
        "\n",
        "        P_H1_A=(P_A_H1 * P_H1) / P_A\n",
        "    '''\n",
        "    return (P_A_H1 * P_H1) / P_A\n",
        "P_A_H1 = 0.6\n",
        "P_A_H2 = 0.84\n",
        "\n",
        "P_H1 = 2/3\n",
        "P_H2 = 1/3\n",
        "\n",
        "P_A = olas(P_A_H1, P_H1, P_A_H2,P_H2 )\n",
        "\n",
        "P_H1_A = bayes(P_A, P_H1, P_A_H1)\n",
        "\n",
        "print('Seçilen ürünün birinci makine tarafından üretilme olasılığı:', P_H1_A)\n",
        "\n",
        "           \n",
        "\n",
        "    "
      ],
      "execution_count": 2,
      "outputs": [
        {
          "output_type": "stream",
          "text": [
            "Seçilen ürünün birinci makine tarafından üretilme olasılığı: 0.5882352941176471\n"
          ],
          "name": "stdout"
        }
      ]
    },
    {
      "cell_type": "code",
      "metadata": {
        "id": "WnQmy99sCVTq"
      },
      "source": [
        ""
      ],
      "execution_count": null,
      "outputs": []
    }
  ]
}