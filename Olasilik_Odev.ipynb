{
  "nbformat": 4,
  "nbformat_minor": 0,
  "metadata": {
    "colab": {
      "name": "Olasilik-Odev.ipynb",
      "provenance": [],
      "authorship_tag": "ABX9TyMzxJsl4xyzUGTxsguny2Rq",
      "include_colab_link": true
    },
    "kernelspec": {
      "name": "python3",
      "display_name": "Python 3"
    },
    "language_info": {
      "name": "python"
    }
  },
  "cells": [
    {
      "cell_type": "markdown",
      "metadata": {
        "id": "view-in-github",
        "colab_type": "text"
      },
      "source": [
        "<a href=\"https://colab.research.google.com/github/Fatikha-Imamagzam/Probability/blob/main/Olasilik_Odev.ipynb\" target=\"_parent\"><img src=\"https://colab.research.google.com/assets/colab-badge.svg\" alt=\"Open In Colab\"/></a>"
      ]
    },
    {
      "cell_type": "markdown",
      "metadata": {
        "id": "wsJJzj7zxa8u"
      },
      "source": [
        "Ödev\n",
        "\n",
        "9 kisilik bir ekip 4 tane koltuğa kaç farklı şekilde oturabilirler?\n",
        "\n",
        "Çözüm\n",
        "\n",
        "Burada sıralama önemli olduğu için bu Permutasyon. \n",
        "\n",
        "\n",
        "Yani ilk koltuğa 9 farklı şekilde sıralama yapabiliriz. İkincide 8 faklı şekilde sıralama yapabiliriz. Üçüncüye 7 ve dördüncüye 6 faklı şekilde sıralama yapabiliriz.\n",
        "\n",
        " Tümden istemediğimiz kısmı çıkarıyoruz yani böliyoruz.  Tüm durum burada 9! ve istenmeyen durum (9-4)!. Yani P(n,x)=n!/(n-x)!\n",
        "\n",
        "9!/(9-4)!=3024\n",
        "\n",
        "\n",
        "\n"
      ]
    },
    {
      "cell_type": "code",
      "metadata": {
        "id": "XekqWMdvxVZ_",
        "colab": {
          "base_uri": "https://localhost:8080/"
        },
        "outputId": "e0ed1411-a9c5-41b4-a882-6fb82137435b"
      },
      "source": [
        "def faktoriyelHesapla(i):\n",
        "    if i == 1:\n",
        "        return 1\n",
        "    else:\n",
        "        return i * faktoriyelHesapla(i - 1)\n",
        "\n",
        "def permutasyonHesapla(j, k):\n",
        "    l = 0\n",
        "    if k > j:\n",
        "        l = l\n",
        "    else:\n",
        "        l = faktoriyelHesapla(j) / faktoriyelHesapla(j - k)\n",
        "        return l\n",
        "\n",
        "print(\"Permütasyon hesabı için lütfen sayıları giriniz.\")\n",
        "\n",
        "sayi1 = int(input(\"1. Insan sayisi: \"))\n",
        "sayi2 = int(input(\"2. Koltuk sayısı: \"))\n",
        "print(\"\\n Sonuç:\", permutasyonHesapla(sayi1, sayi2))\n"
      ],
      "execution_count": null,
      "outputs": [
        {
          "output_type": "stream",
          "text": [
            "Permütasyon hesabı için lütfen sayıları giriniz.\n",
            "1. Insan sayisi: 9\n",
            "2. Koltuk sayısı: 4\n",
            "\n",
            " Sonuç: 3024.0\n"
          ],
          "name": "stdout"
        }
      ]
    }
  ]
}